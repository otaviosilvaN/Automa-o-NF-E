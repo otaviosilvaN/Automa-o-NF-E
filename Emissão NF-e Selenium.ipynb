{
 "cells": [
  {
   "cell_type": "markdown",
   "metadata": {},
   "source": [
    "### Emissão NF-e via Web-scrapping com Selenium - Emissão de download de várias notas"
   ]
  },
  {
   "cell_type": "code",
   "execution_count": 4,
   "metadata": {},
   "outputs": [
    {
     "name": "stderr",
     "output_type": "stream",
     "text": [
      "\n",
      "\n",
      "====== WebDriver manager ======\n",
      "Current google-chrome version is 101.0.4951\n",
      "Get LATEST chromedriver version for 101.0.4951 google-chrome\n",
      "Driver [C:\\Users\\otavi\\.wdm\\drivers\\chromedriver\\win32\\101.0.4951.41\\chromedriver.exe] found in cache\n",
      "<ipython-input-4-6d805a964de7>:21: DeprecationWarning: use options instead of chrome_options\n",
      "  navegador = webdriver.Chrome(service=service, chrome_options=options)\n"
     ]
    },
    {
     "ename": "NoSuchWindowException",
     "evalue": "Message: no such window: target window already closed\nfrom unknown error: web view not found\n  (Session info: chrome=101.0.4951.67)\nStacktrace:\nBacktrace:\n\tOrdinal0 [0x00DCB8F3+2406643]\n\tOrdinal0 [0x00D5AF31+1945393]\n\tOrdinal0 [0x00C4C748+837448]\n\tOrdinal0 [0x00C342B0+737968]\n\tOrdinal0 [0x00C96C09+1141769]\n\tOrdinal0 [0x00CA3E22+1195554]\n\tOrdinal0 [0x00C94096+1130646]\n\tOrdinal0 [0x00C6E636+976438]\n\tOrdinal0 [0x00C6F546+980294]\n\tGetHandleVerifier [0x01039612+2498066]\n\tGetHandleVerifier [0x0102C920+2445600]\n\tGetHandleVerifier [0x00E64F2A+579370]\n\tGetHandleVerifier [0x00E63D36+574774]\n\tOrdinal0 [0x00D61C0B+1973259]\n\tOrdinal0 [0x00D66688+1992328]\n\tOrdinal0 [0x00D66775+1992565]\n\tOrdinal0 [0x00D6F8D1+2029777]\n\tBaseThreadInitThunk [0x7538FA29+25]\n\tRtlGetAppContainerNamedObjectPath [0x76F575F4+228]\n\tRtlGetAppContainerNamedObjectPath [0x76F575C4+180]\n",
     "output_type": "error",
     "traceback": [
      "\u001b[1;31m---------------------------------------------------------------------------\u001b[0m",
      "\u001b[1;31mNoSuchWindowException\u001b[0m                     Traceback (most recent call last)",
      "\u001b[1;32m<ipython-input-4-6d805a964de7>\u001b[0m in \u001b[0;36m<module>\u001b[1;34m\u001b[0m\n\u001b[0;32m     50\u001b[0m     \u001b[0mnavegador\u001b[0m\u001b[1;33m.\u001b[0m\u001b[0mfind_element\u001b[0m\u001b[1;33m(\u001b[0m\u001b[0mBy\u001b[0m\u001b[1;33m.\u001b[0m\u001b[0mNAME\u001b[0m\u001b[1;33m,\u001b[0m \u001b[1;34m'municipio'\u001b[0m\u001b[1;33m)\u001b[0m\u001b[1;33m.\u001b[0m\u001b[0msend_keys\u001b[0m\u001b[1;33m(\u001b[0m\u001b[0mtabela\u001b[0m\u001b[1;33m.\u001b[0m\u001b[0mloc\u001b[0m\u001b[1;33m[\u001b[0m\u001b[0mlinha\u001b[0m\u001b[1;33m,\u001b[0m \u001b[1;34m\"Municipio\"\u001b[0m\u001b[1;33m]\u001b[0m\u001b[1;33m)\u001b[0m\u001b[1;33m\u001b[0m\u001b[1;33m\u001b[0m\u001b[0m\n\u001b[0;32m     51\u001b[0m     \u001b[1;31m# CEP\u001b[0m\u001b[1;33m\u001b[0m\u001b[1;33m\u001b[0m\u001b[1;33m\u001b[0m\u001b[0m\n\u001b[1;32m---> 52\u001b[1;33m     \u001b[0mnavegador\u001b[0m\u001b[1;33m.\u001b[0m\u001b[0mfind_element\u001b[0m\u001b[1;33m(\u001b[0m\u001b[0mBy\u001b[0m\u001b[1;33m.\u001b[0m\u001b[0mNAME\u001b[0m\u001b[1;33m,\u001b[0m \u001b[1;34m'cep'\u001b[0m\u001b[1;33m)\u001b[0m\u001b[1;33m.\u001b[0m\u001b[0msend_keys\u001b[0m\u001b[1;33m(\u001b[0m\u001b[0mstr\u001b[0m\u001b[1;33m(\u001b[0m\u001b[0mtabela\u001b[0m\u001b[1;33m.\u001b[0m\u001b[0mloc\u001b[0m\u001b[1;33m[\u001b[0m\u001b[0mlinha\u001b[0m\u001b[1;33m,\u001b[0m \u001b[1;34m\"CEP\"\u001b[0m\u001b[1;33m]\u001b[0m\u001b[1;33m)\u001b[0m\u001b[1;33m)\u001b[0m\u001b[1;33m\u001b[0m\u001b[1;33m\u001b[0m\u001b[0m\n\u001b[0m\u001b[0;32m     53\u001b[0m     \u001b[1;31m# Estado\u001b[0m\u001b[1;33m\u001b[0m\u001b[1;33m\u001b[0m\u001b[1;33m\u001b[0m\u001b[0m\n\u001b[0;32m     54\u001b[0m     \u001b[0mnavegador\u001b[0m\u001b[1;33m.\u001b[0m\u001b[0mfind_element\u001b[0m\u001b[1;33m(\u001b[0m\u001b[0mBy\u001b[0m\u001b[1;33m.\u001b[0m\u001b[0mNAME\u001b[0m\u001b[1;33m,\u001b[0m \u001b[1;34m'uf'\u001b[0m\u001b[1;33m)\u001b[0m\u001b[1;33m.\u001b[0m\u001b[0msend_keys\u001b[0m\u001b[1;33m(\u001b[0m\u001b[0mtabela\u001b[0m\u001b[1;33m.\u001b[0m\u001b[0mloc\u001b[0m\u001b[1;33m[\u001b[0m\u001b[0mlinha\u001b[0m\u001b[1;33m,\u001b[0m \u001b[1;34m\"UF\"\u001b[0m\u001b[1;33m]\u001b[0m\u001b[1;33m)\u001b[0m\u001b[1;33m\u001b[0m\u001b[1;33m\u001b[0m\u001b[0m\n",
      "\u001b[1;32m~\\AppData\\Roaming\\Python\\Python38\\site-packages\\selenium\\webdriver\\remote\\webdriver.py\u001b[0m in \u001b[0;36mfind_element\u001b[1;34m(self, by, value)\u001b[0m\n\u001b[0;32m   1246\u001b[0m             \u001b[0mvalue\u001b[0m \u001b[1;33m=\u001b[0m \u001b[1;34m'[name=\"%s\"]'\u001b[0m \u001b[1;33m%\u001b[0m \u001b[0mvalue\u001b[0m\u001b[1;33m\u001b[0m\u001b[1;33m\u001b[0m\u001b[0m\n\u001b[0;32m   1247\u001b[0m \u001b[1;33m\u001b[0m\u001b[0m\n\u001b[1;32m-> 1248\u001b[1;33m         return self.execute(Command.FIND_ELEMENT, {\n\u001b[0m\u001b[0;32m   1249\u001b[0m             \u001b[1;34m'using'\u001b[0m\u001b[1;33m:\u001b[0m \u001b[0mby\u001b[0m\u001b[1;33m,\u001b[0m\u001b[1;33m\u001b[0m\u001b[1;33m\u001b[0m\u001b[0m\n\u001b[0;32m   1250\u001b[0m             'value': value})['value']\n",
      "\u001b[1;32m~\\AppData\\Roaming\\Python\\Python38\\site-packages\\selenium\\webdriver\\remote\\webdriver.py\u001b[0m in \u001b[0;36mexecute\u001b[1;34m(self, driver_command, params)\u001b[0m\n\u001b[0;32m    423\u001b[0m         \u001b[0mresponse\u001b[0m \u001b[1;33m=\u001b[0m \u001b[0mself\u001b[0m\u001b[1;33m.\u001b[0m\u001b[0mcommand_executor\u001b[0m\u001b[1;33m.\u001b[0m\u001b[0mexecute\u001b[0m\u001b[1;33m(\u001b[0m\u001b[0mdriver_command\u001b[0m\u001b[1;33m,\u001b[0m \u001b[0mparams\u001b[0m\u001b[1;33m)\u001b[0m\u001b[1;33m\u001b[0m\u001b[1;33m\u001b[0m\u001b[0m\n\u001b[0;32m    424\u001b[0m         \u001b[1;32mif\u001b[0m \u001b[0mresponse\u001b[0m\u001b[1;33m:\u001b[0m\u001b[1;33m\u001b[0m\u001b[1;33m\u001b[0m\u001b[0m\n\u001b[1;32m--> 425\u001b[1;33m             \u001b[0mself\u001b[0m\u001b[1;33m.\u001b[0m\u001b[0merror_handler\u001b[0m\u001b[1;33m.\u001b[0m\u001b[0mcheck_response\u001b[0m\u001b[1;33m(\u001b[0m\u001b[0mresponse\u001b[0m\u001b[1;33m)\u001b[0m\u001b[1;33m\u001b[0m\u001b[1;33m\u001b[0m\u001b[0m\n\u001b[0m\u001b[0;32m    426\u001b[0m             response['value'] = self._unwrap_value(\n\u001b[0;32m    427\u001b[0m                 response.get('value', None))\n",
      "\u001b[1;32m~\\AppData\\Roaming\\Python\\Python38\\site-packages\\selenium\\webdriver\\remote\\errorhandler.py\u001b[0m in \u001b[0;36mcheck_response\u001b[1;34m(self, response)\u001b[0m\n\u001b[0;32m    245\u001b[0m                 \u001b[0malert_text\u001b[0m \u001b[1;33m=\u001b[0m \u001b[0mvalue\u001b[0m\u001b[1;33m[\u001b[0m\u001b[1;34m'alert'\u001b[0m\u001b[1;33m]\u001b[0m\u001b[1;33m.\u001b[0m\u001b[0mget\u001b[0m\u001b[1;33m(\u001b[0m\u001b[1;34m'text'\u001b[0m\u001b[1;33m)\u001b[0m\u001b[1;33m\u001b[0m\u001b[1;33m\u001b[0m\u001b[0m\n\u001b[0;32m    246\u001b[0m             \u001b[1;32mraise\u001b[0m \u001b[0mexception_class\u001b[0m\u001b[1;33m(\u001b[0m\u001b[0mmessage\u001b[0m\u001b[1;33m,\u001b[0m \u001b[0mscreen\u001b[0m\u001b[1;33m,\u001b[0m \u001b[0mstacktrace\u001b[0m\u001b[1;33m,\u001b[0m \u001b[0malert_text\u001b[0m\u001b[1;33m)\u001b[0m  \u001b[1;31m# type: ignore[call-arg]  # mypy is not smart enough here\u001b[0m\u001b[1;33m\u001b[0m\u001b[1;33m\u001b[0m\u001b[0m\n\u001b[1;32m--> 247\u001b[1;33m         \u001b[1;32mraise\u001b[0m \u001b[0mexception_class\u001b[0m\u001b[1;33m(\u001b[0m\u001b[0mmessage\u001b[0m\u001b[1;33m,\u001b[0m \u001b[0mscreen\u001b[0m\u001b[1;33m,\u001b[0m \u001b[0mstacktrace\u001b[0m\u001b[1;33m)\u001b[0m\u001b[1;33m\u001b[0m\u001b[1;33m\u001b[0m\u001b[0m\n\u001b[0m\u001b[0;32m    248\u001b[0m \u001b[1;33m\u001b[0m\u001b[0m\n\u001b[0;32m    249\u001b[0m     \u001b[1;32mdef\u001b[0m \u001b[0m_value_or_default\u001b[0m\u001b[1;33m(\u001b[0m\u001b[0mself\u001b[0m\u001b[1;33m,\u001b[0m \u001b[0mobj\u001b[0m\u001b[1;33m:\u001b[0m \u001b[0mMapping\u001b[0m\u001b[1;33m[\u001b[0m\u001b[0m_KT\u001b[0m\u001b[1;33m,\u001b[0m \u001b[0m_VT\u001b[0m\u001b[1;33m]\u001b[0m\u001b[1;33m,\u001b[0m \u001b[0mkey\u001b[0m\u001b[1;33m:\u001b[0m \u001b[0m_KT\u001b[0m\u001b[1;33m,\u001b[0m \u001b[0mdefault\u001b[0m\u001b[1;33m:\u001b[0m \u001b[0m_VT\u001b[0m\u001b[1;33m)\u001b[0m \u001b[1;33m->\u001b[0m \u001b[0m_VT\u001b[0m\u001b[1;33m:\u001b[0m\u001b[1;33m\u001b[0m\u001b[1;33m\u001b[0m\u001b[0m\n",
      "\u001b[1;31mNoSuchWindowException\u001b[0m: Message: no such window: target window already closed\nfrom unknown error: web view not found\n  (Session info: chrome=101.0.4951.67)\nStacktrace:\nBacktrace:\n\tOrdinal0 [0x00DCB8F3+2406643]\n\tOrdinal0 [0x00D5AF31+1945393]\n\tOrdinal0 [0x00C4C748+837448]\n\tOrdinal0 [0x00C342B0+737968]\n\tOrdinal0 [0x00C96C09+1141769]\n\tOrdinal0 [0x00CA3E22+1195554]\n\tOrdinal0 [0x00C94096+1130646]\n\tOrdinal0 [0x00C6E636+976438]\n\tOrdinal0 [0x00C6F546+980294]\n\tGetHandleVerifier [0x01039612+2498066]\n\tGetHandleVerifier [0x0102C920+2445600]\n\tGetHandleVerifier [0x00E64F2A+579370]\n\tGetHandleVerifier [0x00E63D36+574774]\n\tOrdinal0 [0x00D61C0B+1973259]\n\tOrdinal0 [0x00D66688+1992328]\n\tOrdinal0 [0x00D66775+1992565]\n\tOrdinal0 [0x00D6F8D1+2029777]\n\tBaseThreadInitThunk [0x7538FA29+25]\n\tRtlGetAppContainerNamedObjectPath [0x76F575F4+228]\n\tRtlGetAppContainerNamedObjectPath [0x76F575C4+180]\n"
     ]
    }
   ],
   "source": [
    "# Importação de bibliotecas necessárias\n",
    "from selenium import webdriver\n",
    "from selenium.webdriver.chrome.service import Service\n",
    "from webdriver_manager.chrome import ChromeDriverManager\n",
    "from selenium.webdriver.common.by import By\n",
    "import os\n",
    "import time\n",
    "import pandas as pd\n",
    "\n",
    "# Obs: Desativar possiveis mensagens de notificação ao clicar em fazer download da nota\n",
    "\n",
    "options = webdriver.ChromeOptions()\n",
    "options.add_experimental_option(\"prefs\", {\n",
    "  \"download.default_directory\": r\"C:\\Users\\SEUUSUARIO\\downloads\",\n",
    "  \"download.prompt_for_download\": False,\n",
    "  \"download.directory_upgrade\": True,\n",
    "  \"safebrowsing.enabled\": True\n",
    "})\n",
    "\n",
    "service = Service(ChromeDriverManager().install())\n",
    "navegador = webdriver.Chrome(service=service, chrome_options=options)\n",
    "\n",
    "# Acessar pagina Web\n",
    "caminho = os.getcwd()\n",
    "arquivo = caminho + r\"\\login.html\"\n",
    "navegador.get(arquivo)\n",
    "\n",
    "#Preencher os campos de Login e senha\n",
    "navegador.find_element(By.XPATH, '/html/body/div/form/input[1]').send_keys('SEULOGIN')\n",
    "navegador.find_element(By.XPATH, '/html/body/div/form/input[2]').send_keys('SUASENHA')\n",
    "\n",
    "# Clicar no campo de login\n",
    "navegador.find_element(By.XPATH, '/html/body/div/form/button').click()\n",
    "\n",
    "\n",
    "# importar a base de dados das notas a serem emitidas\n",
    "tabela = pd.read_excel('NotasEmitir.xlsx')\n",
    "# tabela.head(10)\n",
    "\n",
    "# Repetição para preenchimento dos dados da nota\n",
    "for linha in tabela.index:\n",
    "    #Preencher os dados da nota fiscal\n",
    "    #Nome/ Razão social\n",
    "    navegador.find_element(By.NAME, 'nome').send_keys(tabela.loc[linha, \"Cliente\"])\n",
    "    # Endereço\n",
    "    navegador.find_element(By.NAME, 'endereco').send_keys(tabela.loc[linha, \"Endereço\"])\n",
    "    # Bairro\n",
    "    navegador.find_element(By.NAME, 'bairro').send_keys(tabela.loc[linha, \"Bairro\"])\n",
    "    # Município\n",
    "    navegador.find_element(By.NAME, 'municipio').send_keys(tabela.loc[linha, \"Municipio\"])\n",
    "    # CEP\n",
    "    navegador.find_element(By.NAME, 'cep').send_keys(str(tabela.loc[linha, \"CEP\"]))\n",
    "    # Estado\n",
    "    navegador.find_element(By.NAME, 'uf').send_keys(tabela.loc[linha, \"UF\"])\n",
    "\n",
    "    # CNPJ\n",
    "    navegador.find_element(By.NAME, 'cnpj').send_keys(str(tabela.loc[linha, \"CPF/CNPJ\"]))\n",
    "    # Inscrição estadual\n",
    "    navegador.find_element(By.NAME, 'inscricao').send_keys(str(tabela.loc[linha, \"Inscricao Estadual\"]))\n",
    "    # Descrição do produto/Serviço\n",
    "    descricao = (tabela.loc[linha, \"Descrição\"])\n",
    "    navegador.find_element(By.NAME, 'descricao').send_keys(descricao)\n",
    "    # Quantidade\n",
    "    navegador.find_element(By.NAME, 'quantidade').send_keys(str(tabela.loc[linha, \"Quantidade\"]))\n",
    "    #Valor Unitário\n",
    "    navegador.find_element(By.NAME, 'valor_unitario').send_keys(str(tabela.loc[linha, \"Valor Unitario\"]))\n",
    "    # Valor Total\n",
    "    navegador.find_element(By.NAME, 'total').send_keys(str(tabela.loc[linha, \"Valor Total\"]))\n",
    "\n",
    "    # Clicar em emitir a nota\n",
    "    navegador.find_element(By.CLASS_NAME, 'registerbtn').click()\n",
    "    \n",
    "    # Recarregar a pagina para emitir nova NF-e\n",
    "    navegador.refresh()\n",
    "    \n",
    "# Fim do projeto\n",
    "navegador.quit()\n",
    "\n",
    "### Todos os direitos reservados - 2022 ###"
   ]
  }
 ],
 "metadata": {
  "kernelspec": {
   "display_name": "Python 3",
   "language": "python",
   "name": "python3"
  },
  "language_info": {
   "codemirror_mode": {
    "name": "ipython",
    "version": 3
   },
   "file_extension": ".py",
   "mimetype": "text/x-python",
   "name": "python",
   "nbconvert_exporter": "python",
   "pygments_lexer": "ipython3",
   "version": "3.8.5"
  }
 },
 "nbformat": 4,
 "nbformat_minor": 4
}
